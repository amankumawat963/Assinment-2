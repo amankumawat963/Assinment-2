{
 "cells": [
  {
   "cell_type": "code",
   "execution_count": 1,
   "id": "83a665ae-4a4a-4e0c-8e2d-34326b7a1a65",
   "metadata": {},
   "outputs": [],
   "source": [
    "#Q1. The def keyword is used to create, or definea function\n"
   ]
  },
  {
   "cell_type": "code",
   "execution_count": 7,
   "id": "095193de-4af2-4316-919b-e7935c4b37f0",
   "metadata": {},
   "outputs": [
    {
     "name": "stdout",
     "output_type": "stream",
     "text": [
      "[1, 2, 3, 4, 5, 6, 7, 8, 9, 10, 11, 12, 13, 14, 15, 16, 17, 18, 19, 20, 21, 22, 23, 24, 25]\n"
     ]
    }
   ],
   "source": [
    "l= []\n",
    "for i in range(1,26):\n",
    "    l.append(i)\n",
    "print(l)"
   ]
  },
  {
   "cell_type": "code",
   "execution_count": 21,
   "id": "fb1c7ddb-ca17-45f6-814d-ecf9bcede625",
   "metadata": {},
   "outputs": [
    {
     "name": "stdout",
     "output_type": "stream",
     "text": [
      "1 3 5 7 9 11 13 15 17 19 21 23 25 "
     ]
    }
   ],
   "source": [
    "for a in l:\n",
    "    if a % 2 != 0:\n",
    "     print(a, end=\" \")    \n",
    "    "
   ]
  },
  {
   "cell_type": "code",
   "execution_count": 22,
   "id": "a19b04da-ffc5-45a7-99c2-1f4b0a091484",
   "metadata": {},
   "outputs": [],
   "source": [
    "# Q2. args allows us to pass a variable number of non-keyword arguments to a Python function."
   ]
  },
  {
   "cell_type": "code",
   "execution_count": 24,
   "id": "1ceadbf6-178a-45f6-955b-485d6f330af5",
   "metadata": {},
   "outputs": [],
   "source": [
    " def a(*args):\n",
    "        return args"
   ]
  },
  {
   "cell_type": "code",
   "execution_count": 25,
   "id": "78043fa2-6439-4b32-9540-7b7fc71fe25b",
   "metadata": {},
   "outputs": [
    {
     "data": {
      "text/plain": [
       "(1, 2, 3, 4, 5)"
      ]
     },
     "execution_count": 25,
     "metadata": {},
     "output_type": "execute_result"
    }
   ],
   "source": [
    "a(1,2,3,4,5)"
   ]
  },
  {
   "cell_type": "code",
   "execution_count": 26,
   "id": "65afa969-0352-451a-9a01-2acee2d8605e",
   "metadata": {},
   "outputs": [],
   "source": [
    "# Use **kwargs when you want to pass a variable number keyword arguments (keys and values.)"
   ]
  },
  {
   "cell_type": "code",
   "execution_count": 27,
   "id": "19946ca8-cdce-4b59-b0e4-4027c6cad8bf",
   "metadata": {},
   "outputs": [],
   "source": [
    "def a1(**kwargs):\n",
    "    return kwargs   \n"
   ]
  },
  {
   "cell_type": "code",
   "execution_count": 34,
   "id": "f96d2521-25ca-4f50-89bf-776a0dd89ace",
   "metadata": {},
   "outputs": [
    {
     "data": {
      "text/plain": [
       "{'a': 2, 'b': 3, 'c': 4}"
      ]
     },
     "execution_count": 34,
     "metadata": {},
     "output_type": "execute_result"
    }
   ],
   "source": [
    "a1(a = 2 , b=3, c=4)"
   ]
  },
  {
   "cell_type": "code",
   "execution_count": 1,
   "id": "bb89de83-535c-47a4-a94e-b586c646b948",
   "metadata": {},
   "outputs": [],
   "source": [
    "# Q3. iterator is an object that allows you to iterate over collections of data, such as lists, tuples, dictionaries, and sets."
   ]
  },
  {
   "cell_type": "code",
   "execution_count": 2,
   "id": "d7368a38-5f81-4982-915f-d24ae61c3c92",
   "metadata": {},
   "outputs": [],
   "source": [
    "# Iter() method is used to initialize the iterator object so that the instance of this object can be used for iterating."
   ]
  },
  {
   "cell_type": "code",
   "execution_count": 4,
   "id": "dedabf66-3c08-4077-99f2-a3131151dd90",
   "metadata": {},
   "outputs": [],
   "source": [
    "a= [2, 4, 6, 8, 10, 12, 14,\n",
    "16, 18, 20]"
   ]
  },
  {
   "cell_type": "code",
   "execution_count": 12,
   "id": "81a73000-b89e-45bb-b96c-e3b504116719",
   "metadata": {},
   "outputs": [],
   "source": [
    "a1 = iter(a)"
   ]
  },
  {
   "cell_type": "code",
   "execution_count": 14,
   "id": "24b0f281-c58c-4173-afbd-e2c54ea874f9",
   "metadata": {},
   "outputs": [
    {
     "data": {
      "text/plain": [
       "2"
      ]
     },
     "execution_count": 14,
     "metadata": {},
     "output_type": "execute_result"
    }
   ],
   "source": [
    "next(a1)"
   ]
  },
  {
   "cell_type": "code",
   "execution_count": 15,
   "id": "5470c974-7690-4e92-988e-25b510da7612",
   "metadata": {},
   "outputs": [
    {
     "data": {
      "text/plain": [
       "4"
      ]
     },
     "execution_count": 15,
     "metadata": {},
     "output_type": "execute_result"
    }
   ],
   "source": [
    "next(a1)"
   ]
  },
  {
   "cell_type": "code",
   "execution_count": 16,
   "id": "3839208a-9cbe-48bc-94a3-3ef7e6d77e8a",
   "metadata": {},
   "outputs": [
    {
     "data": {
      "text/plain": [
       "6"
      ]
     },
     "execution_count": 16,
     "metadata": {},
     "output_type": "execute_result"
    }
   ],
   "source": [
    "next(a1)"
   ]
  },
  {
   "cell_type": "code",
   "execution_count": 17,
   "id": "086e8894-9157-46f1-8c35-0a2b8edda1cd",
   "metadata": {},
   "outputs": [
    {
     "data": {
      "text/plain": [
       "8"
      ]
     },
     "execution_count": 17,
     "metadata": {},
     "output_type": "execute_result"
    }
   ],
   "source": [
    "next(a1)"
   ]
  },
  {
   "cell_type": "code",
   "execution_count": 18,
   "id": "43633ecc-93c1-4cf0-8f52-cdd933277595",
   "metadata": {},
   "outputs": [
    {
     "data": {
      "text/plain": [
       "10"
      ]
     },
     "execution_count": 18,
     "metadata": {},
     "output_type": "execute_result"
    }
   ],
   "source": [
    "next(a1)"
   ]
  },
  {
   "cell_type": "code",
   "execution_count": 19,
   "id": "928f8633-7390-4d9f-8a41-4bb7354052f3",
   "metadata": {},
   "outputs": [
    {
     "data": {
      "text/plain": [
       "12"
      ]
     },
     "execution_count": 19,
     "metadata": {},
     "output_type": "execute_result"
    }
   ],
   "source": [
    "next(a1)"
   ]
  },
  {
   "cell_type": "code",
   "execution_count": 21,
   "id": "9d938204-906a-47e7-99c8-9ffab089beca",
   "metadata": {},
   "outputs": [],
   "source": [
    "# Q3. A Python generator function allows you to declare a function that behaves like an iterator\n",
    "     # , providing a faster and easier way to create iterators."
   ]
  },
  {
   "cell_type": "code",
   "execution_count": 22,
   "id": "a45bbcfe-0722-4799-b53d-fd38ee847fe4",
   "metadata": {},
   "outputs": [],
   "source": [
    "#the yield keyword will convert an expression that is specified along with it to a generator object and return it to the caller."
   ]
  },
  {
   "cell_type": "code",
   "execution_count": 30,
   "id": "f9968301-fd7d-4fd9-9328-7aa6778209ce",
   "metadata": {},
   "outputs": [
    {
     "name": "stdout",
     "output_type": "stream",
     "text": [
      "0\n",
      "1\n",
      "2\n",
      "3\n"
     ]
    }
   ],
   "source": [
    "def my_generator(n):\n",
    "\n",
    "    a = 0\n",
    "\n",
    "    while a < n:\n",
    "        yield a\n",
    "        a += 1\n",
    "for a in my_generator(4):\n",
    "    print(a)\n"
   ]
  },
  {
   "cell_type": "code",
   "execution_count": 32,
   "id": "9dcf530f-1260-4939-b702-a68a6cb1a440",
   "metadata": {},
   "outputs": [
    {
     "name": "stdout",
     "output_type": "stream",
     "text": [
      "0\n",
      "1\n",
      "1\n",
      "2\n",
      "3\n",
      "5\n",
      "8\n",
      "13\n",
      "21\n",
      "34\n"
     ]
    }
   ],
   "source": [
    "#Q6.\n",
    "number = 10\n",
    "a , b  = 0 , 1 \n",
    "counter = 0 \n",
    "while counter < number : \n",
    "    print(a)\n",
    "    c = a+ b\n",
    "    a = b \n",
    "    b = c \n",
    "    counter= counter+ 1"
   ]
  },
  {
   "cell_type": "code",
   "execution_count": 33,
   "id": "8d58a0b1-bda4-4e6f-9305-9920d14eb24e",
   "metadata": {},
   "outputs": [],
   "source": [
    "#Q7.\n",
    "a = \"pwskills\"\n",
    "a1 = []\n",
    "for i in a:\n",
    "    a1.append(i)"
   ]
  },
  {
   "cell_type": "code",
   "execution_count": 34,
   "id": "a06dfb43-dc00-4d99-8160-3725de150d3a",
   "metadata": {},
   "outputs": [
    {
     "data": {
      "text/plain": [
       "['p', 'w', 's', 'k', 'i', 'l', 'l', 's']"
      ]
     },
     "execution_count": 34,
     "metadata": {},
     "output_type": "execute_result"
    }
   ],
   "source": [
    "a1"
   ]
  },
  {
   "cell_type": "code",
   "execution_count": 46,
   "id": "0e41e6c9-bdb8-4095-984b-0d1104b222fa",
   "metadata": {},
   "outputs": [
    {
     "name": "stdout",
     "output_type": "stream",
     "text": [
      "3 5 7 9 11 13 15 17 19 21 23 25 27 29 31 33 35 37 39 41 "
     ]
    }
   ],
   "source": [
    "# Q5.\n",
    "def isPrime(num):\n",
    "    for i in range(2, num):\n",
    "        if  num%i == 0:\n",
    "            return False\n",
    "        return True     \n",
    "def primegenerator(n):\n",
    "    num = 2\n",
    "    while n:\n",
    "        if isPrime(num):\n",
    "            yield num\n",
    "            n-=1\n",
    "        num+=1\n",
    "    return\n",
    "prime = primegenerator(20)\n",
    "for a in prime:\n",
    "    print(a,end=\" \")\n"
   ]
  },
  {
   "cell_type": "code",
   "execution_count": 49,
   "id": "1404f733-c87e-4aab-8680-d23a44da8882",
   "metadata": {},
   "outputs": [
    {
     "name": "stdin",
     "output_type": "stream",
     "text": [
      "Enter number: 139\n"
     ]
    },
    {
     "name": "stdout",
     "output_type": "stream",
     "text": [
      "The number isn't a palindrome!\n"
     ]
    }
   ],
   "source": [
    "#Q8\n",
    "n=int(input(\"Enter number:\"))\n",
    "temp=n\n",
    "rev=0\n",
    "while(n>0):\n",
    "    dig=n%10\n",
    "    rev=rev*10+dig\n",
    "    n=n//10\n",
    "if(temp==rev):\n",
    "    print(\"The number is a palindrome!\")\n",
    "else:\n",
    "    print(\"The number isn't a palindrome!\")"
   ]
  },
  {
   "cell_type": "code",
   "execution_count": 62,
   "id": "96a24167-b377-4414-b0a5-fbc5cfdba554",
   "metadata": {},
   "outputs": [
    {
     "name": "stdout",
     "output_type": "stream",
     "text": [
      "1 3 5 7 9 11 13 15 17 19 21 23 25 27 29 31 33 35 37 39 41 43 45 47 49 51 53 55 57 59 61 63 65 67 69 71 73 75 77 79 81 83 85 87 89 91 93 95 97 99 "
     ]
    }
   ],
   "source": [
    "l= []\n",
    "for i in range(1,101):\n",
    "    l.append(i)\n",
    "l1 = []\n",
    "for i in l:\n",
    "    if i%2!=0:\n",
    "        print(i,end=\" \")"
   ]
  },
  {
   "cell_type": "code",
   "execution_count": null,
   "id": "3d62df33-d4ba-4f34-9f7d-ae40a375470b",
   "metadata": {},
   "outputs": [],
   "source": []
  }
 ],
 "metadata": {
  "kernelspec": {
   "display_name": "Python 3 (ipykernel)",
   "language": "python",
   "name": "python3"
  },
  "language_info": {
   "codemirror_mode": {
    "name": "ipython",
    "version": 3
   },
   "file_extension": ".py",
   "mimetype": "text/x-python",
   "name": "python",
   "nbconvert_exporter": "python",
   "pygments_lexer": "ipython3",
   "version": "3.10.8"
  }
 },
 "nbformat": 4,
 "nbformat_minor": 5
}
